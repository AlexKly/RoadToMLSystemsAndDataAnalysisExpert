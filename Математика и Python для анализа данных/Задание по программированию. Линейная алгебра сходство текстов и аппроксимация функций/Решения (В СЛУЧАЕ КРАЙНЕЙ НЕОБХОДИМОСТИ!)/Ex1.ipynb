{
 "cells": [
  {
   "cell_type": "code",
   "execution_count": 1,
   "metadata": {},
   "outputs": [],
   "source": [
    "import re\n",
    "import numpy as np\n",
    "from scipy.spatial import distance"
   ]
  },
  {
   "cell_type": "markdown",
   "metadata": {},
   "source": [
    "# Чтение текста из файла"
   ]
  },
  {
   "cell_type": "code",
   "execution_count": 2,
   "metadata": {},
   "outputs": [],
   "source": [
    "filename = 'sentences.txt'\n",
    "file_obj = open(filename, 'r')\n",
    "content_file_obj = file_obj.readlines()\n",
    "file_obj.close()\n",
    "num_rows = len(content_file_obj)\n",
    "# Приведение слов к нижнему регистру:\n",
    "content = [i.lower() for i in content_file_obj]\n",
    "\n",
    "single_text = ''\n",
    "for i in content:\n",
    "    single_text = single_text + i"
   ]
  },
  {
   "cell_type": "markdown",
   "metadata": {},
   "source": [
    "# Токенизация текста"
   ]
  },
  {
   "cell_type": "code",
   "execution_count": 3,
   "metadata": {},
   "outputs": [],
   "source": [
    "def DivisionText(content):\n",
    "    all_words_list = re.split('[^a-z]', content)\n",
    "    tokens_list = []\n",
    "    for i in all_words_list:\n",
    "        if (i != ''):\n",
    "            tokens_list.append(i)\n",
    "            \n",
    "    return tokens_list\n",
    "            \n",
    "tokens_list = DivisionText(single_text)"
   ]
  },
  {
   "cell_type": "markdown",
   "metadata": {},
   "source": [
    "# Создание словаря слов"
   ]
  },
  {
   "cell_type": "code",
   "execution_count": 4,
   "metadata": {},
   "outputs": [],
   "source": [
    "dict_words = dict.fromkeys(tokens_list, 1)\n",
    "list_words = []\n",
    "num_unique_words = len(dict_words)\n",
    "i = 0\n",
    "for key in dict_words:\n",
    "    dict_words[key] = i\n",
    "    list_words.append(key)\n",
    "    i = i + 1"
   ]
  },
  {
   "cell_type": "markdown",
   "metadata": {},
   "source": [
    "# Матрица частоты корреляции слов"
   ]
  },
  {
   "cell_type": "code",
   "execution_count": 5,
   "metadata": {},
   "outputs": [],
   "source": [
    "counter_words = np.zeros((num_rows, len(dict_words)))\n",
    "\n",
    "for i in range(counter_words.shape[0]):\n",
    "    words_in_a_sentence = content_file_obj[i].lower()\n",
    "    words_in_a_sentence = DivisionText(words_in_a_sentence)\n",
    "    for j in range(len(words_in_a_sentence)):\n",
    "        for k in range(counter_words.shape[1]):\n",
    "            if (words_in_a_sentence[j] == list_words[k]):\n",
    "                counter_words[i][k] = counter_words[i][k] + 1"
   ]
  },
  {
   "cell_type": "markdown",
   "metadata": {},
   "source": [
    "# Рассчет косинусного расстояния между текстами"
   ]
  },
  {
   "cell_type": "code",
   "execution_count": 6,
   "metadata": {},
   "outputs": [],
   "source": [
    "cosine_distance = np.zeros(num_rows)\n",
    "for i in range(num_rows):\n",
    "    cosine_distance[i] = distance.cosine(counter_words[0], counter_words[i])"
   ]
  },
  {
   "cell_type": "markdown",
   "metadata": {},
   "source": [
    "# Вывод:\n",
    "По значению посчитанного косинусного расстояния между векторами, которые представляют собой предложения, можно сделать вывод, что наиболее \"схожие\" по смыслу с первым предложением являются предложения 4 и 6. И в этом действительно можно убедиться, прочитав данные сообщения."
   ]
  },
  {
   "cell_type": "code",
   "execution_count": 7,
   "metadata": {},
   "outputs": [
    {
     "data": {
      "text/plain": [
       "array([0.        , 0.95275444, 0.86447381, 0.89517152, 0.77708871,\n",
       "       0.94023857, 0.73273876, 0.92587507, 0.88427249, 0.90550888,\n",
       "       0.83281654, 0.88047714, 0.83964325, 0.87035926, 0.87401184,\n",
       "       0.94427218, 0.84063619, 0.9566445 , 0.94427218, 0.88854436,\n",
       "       0.84275727, 0.82503645])"
      ]
     },
     "execution_count": 7,
     "metadata": {},
     "output_type": "execute_result"
    }
   ],
   "source": [
    "cosine_distance"
   ]
  }
 ],
 "metadata": {
  "kernelspec": {
   "display_name": "Python 3",
   "language": "python",
   "name": "python3"
  },
  "language_info": {
   "codemirror_mode": {
    "name": "ipython",
    "version": 3
   },
   "file_extension": ".py",
   "mimetype": "text/x-python",
   "name": "python",
   "nbconvert_exporter": "python",
   "pygments_lexer": "ipython3",
   "version": "3.8.3"
  }
 },
 "nbformat": 4,
 "nbformat_minor": 4
}
